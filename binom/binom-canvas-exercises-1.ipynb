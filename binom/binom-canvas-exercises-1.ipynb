{
 "cells": [
  {
   "cell_type": "code",
   "execution_count": 1,
   "metadata": {},
   "outputs": [],
   "source": [
    "from scipy.stats import binom"
   ]
  },
  {
   "cell_type": "code",
   "execution_count": 2,
   "metadata": {},
   "outputs": [
    {
     "data": {
      "text/plain": [
       "0.3086999999999998"
      ]
     },
     "execution_count": 2,
     "metadata": {},
     "output_type": "execute_result"
    }
   ],
   "source": [
    "# No basquete, arremesse 5 bolas da linha de 3 pontos. Qual a probabilidade de acertar exatamente Z arremessos?\n",
    "# (Probabilidade de acertar uma bola de 3 pontos em 1 tentativas: 30%)\n",
    "\n",
    "binom.pmf(2, 5, 0.3)\n",
    "# binom.pmf(eventos com sucesso, total, probabilidade de sucesso)"
   ]
  },
  {
   "cell_type": "code",
   "execution_count": 3,
   "metadata": {},
   "outputs": [],
   "source": [
    "# A probabilidade de um atirador acertar o alvo é de 60%. \n",
    "# Determine a probabilidade de que ao atirar cinco vezes ele \n",
    "# acerte no máximo dois tiros. Sua resposta deve ser colocada\n",
    "# como percentual com duas casas decimais de precisão, mas apenas o número."
   ]
  },
  {
   "cell_type": "code",
   "execution_count": 9,
   "metadata": {},
   "outputs": [],
   "source": [
    "# acertar 0 tiros\n",
    "zero = binom.pmf(0, 5, 0.6)"
   ]
  },
  {
   "cell_type": "code",
   "execution_count": 10,
   "metadata": {},
   "outputs": [],
   "source": [
    "# acertar 1 tiro\n",
    "one = binom.pmf(1, 5, 0.6)"
   ]
  },
  {
   "cell_type": "code",
   "execution_count": 11,
   "metadata": {},
   "outputs": [],
   "source": [
    "# acertar 2 tiros\n",
    "two = binom.pmf(2, 5, 0.6)"
   ]
  },
  {
   "cell_type": "code",
   "execution_count": 13,
   "metadata": {},
   "outputs": [
    {
     "data": {
      "text/plain": [
       "31.744"
      ]
     },
     "execution_count": 13,
     "metadata": {},
     "output_type": "execute_result"
    }
   ],
   "source": [
    "# acertar no máximo 2 tiros\n",
    "(zero + one + two) * 100"
   ]
  }
 ],
 "metadata": {
  "kernelspec": {
   "display_name": "Python 3.10.4 64-bit",
   "language": "python",
   "name": "python3"
  },
  "language_info": {
   "codemirror_mode": {
    "name": "ipython",
    "version": 3
   },
   "file_extension": ".py",
   "mimetype": "text/x-python",
   "name": "python",
   "nbconvert_exporter": "python",
   "pygments_lexer": "ipython3",
   "version": "3.10.4"
  },
  "orig_nbformat": 4,
  "vscode": {
   "interpreter": {
    "hash": "369f2c481f4da34e4445cda3fffd2e751bd1c4d706f27375911949ba6bb62e1c"
   }
  }
 },
 "nbformat": 4,
 "nbformat_minor": 2
}
